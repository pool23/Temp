{
 "cells": [
  {
   "cell_type": "code",
   "execution_count": null,
   "metadata": {
    "collapsed": true
   },
   "outputs": [],
   "source": [
    "import requests\n",
    "import pandas as pd"
   ]
  },
  {
   "cell_type": "code",
   "execution_count": null,
   "metadata": {},
   "outputs": [],
   "source": [
    "page = requests.get(\"https://online.citi.com/US/JRS/pands/detail.do?ID=CurrentRates&amp;JFP_TOKEN=7JAPCVIC\")\n",
    "page"
   ]
  },
  {
   "cell_type": "code",
   "execution_count": null,
   "metadata": {
    "collapsed": true
   },
   "outputs": [],
   "source": [
    "from bs4 import BeautifulSoup\n",
    "soup = BeautifulSoup(page.content, 'html.parser')\n"
   ]
  },
  {
   "cell_type": "code",
   "execution_count": null,
   "metadata": {},
   "outputs": [],
   "source": [
    "soup.prettify"
   ]
  },
  {
   "cell_type": "code",
   "execution_count": null,
   "metadata": {},
   "outputs": [],
   "source": [
    "list(soup.children)"
   ]
  },
  {
   "cell_type": "code",
   "execution_count": null,
   "metadata": {},
   "outputs": [],
   "source": [
    "[type(item) for item in list(soup.children)]"
   ]
  },
  {
   "cell_type": "code",
   "execution_count": null,
   "metadata": {},
   "outputs": [],
   "source": [
    "soup.find_all('span')"
   ]
  },
  {
   "cell_type": "code",
   "execution_count": null,
   "metadata": {},
   "outputs": [],
   "source": [
    "acc_name=soup.find_all('span')[85].get_text()\n",
    "acc_name"
   ]
  },
  {
   "cell_type": "code",
   "execution_count": null,
   "metadata": {},
   "outputs": [],
   "source": [
    "soup.find_all('td')"
   ]
  },
  {
   "cell_type": "code",
   "execution_count": null,
   "metadata": {},
   "outputs": [],
   "source": [
    "[row.find('td').getText() for row in soup.find('tbody').find_all('tr')]"
   ]
  },
  {
   "cell_type": "code",
   "execution_count": null,
   "metadata": {
    "scrolled": true
   },
   "outputs": [],
   "source": [
    "soup.find_all('table')[6]"
   ]
  },
  {
   "cell_type": "code",
   "execution_count": null,
   "metadata": {
    "collapsed": true
   },
   "outputs": [],
   "source": [
    "data=pd.read_html(\"https://online.citi.com/US/JRS/pands/detail.do?ID=CurrentRates&JFP_TOKEN=\")"
   ]
  },
  {
   "cell_type": "code",
   "execution_count": null,
   "metadata": {
    "collapsed": true
   },
   "outputs": [],
   "source": [
    "min_max=data[-4][0]"
   ]
  },
  {
   "cell_type": "code",
   "execution_count": null,
   "metadata": {},
   "outputs": [],
   "source": [
    "balance = []\n",
    "for rows in min_max:\n",
    "    print(rows)\n",
    "    "
   ]
  },
  {
   "cell_type": "code",
   "execution_count": null,
   "metadata": {},
   "outputs": [],
   "source": [
    "from tabulate import tabulate\n",
    " \n",
    "res = requests.get(\"https://online.citi.com/US/JRS/pands/detail.do?ID=CurrentRates&JFP_TOKEN=MVDE2NLX\")\n",
    "soup = BeautifulSoup(res.content,'lxml')\n",
    "table = soup.find_all('table')[0] \n",
    "df = pd.read_html(str(table))\n",
    "print( tabulate(df[-4], tablefmt='psql') )"
   ]
  },
  {
   "cell_type": "code",
   "execution_count": null,
   "metadata": {},
   "outputs": [],
   "source": [
    "soup.findAll('tbody')"
   ]
  },
  {
   "cell_type": "code",
   "execution_count": null,
   "metadata": {
    "collapsed": true
   },
   "outputs": [],
   "source": [
    "player_data_02 = []  # create an empty list to hold all the data\n",
    "\n",
    "for i in range(len(data_rows)):  # for each table row\n",
    "    player_row = []  # create an empty list for each pick/player\n",
    "\n",
    "    # for each table data element from each table row\n",
    "    for td in data_rows[i].findAll('td'):        \n",
    "        # get the text content and append to the player_row \n",
    "        player_row.append(td.getText())        \n",
    "\n",
    "    # then append each pick/player to the player_data matrix\n",
    "    player_data_02.append(player_row)"
   ]
  },
  {
   "cell_type": "code",
   "execution_count": null,
   "metadata": {},
   "outputs": [],
   "source": [
    "\n",
    "#I try to extract the table from wikipedia using the following code:\n",
    "\n",
    "import urllib2\n",
    "\n",
    "from bs4 import BeautifulSoup\n",
    "\n",
    "file = open('CITI_Data_Deposit_05_03_2018.csv', 'w')\n",
    "\n",
    "url = \"https://online.citi.com/US/JRS/pands/detail.do?ID=CurrentRates&JFP_TOKEN=MVDE2NLX\"\n",
    "page = urllib2.urlopen(url)\n",
    "\n",
    "soup = BeautifulSoup(page)\n",
    "\n",
    "balance = \"\"\n",
    "apy = \"\"\n",
    "interest_rates = \"\"\n",
    "\n",
    "table = soup.find_all(\"table\")\n",
    "for row in table.findAll(\"tr\"):\n",
    "    cells = row.findAll(\"td\")\n",
    "    if len(cells) == 3:\n",
    "        balance = cells[0].findAll(text=True)\n",
    "        apy = cells[1].findAll(text=True)\n",
    "        interest_rates = cells[2].find(text=True)\n",
    "\n",
    "        print (balance[1].encode(\"utf-8\"), apy[0].encode(\"utf-8\"), interest_rates[0].encode(\"utf-8\"))\n",
    "\n",
    "        file.write(balance[1].encode(\"utf-8\") + ',' + apy[0].encode(\"utf-8\") + '\\n')\n",
    "\n",
    "file.close()"
   ]
  },
  {
   "cell_type": "code",
   "execution_count": null,
   "metadata": {},
   "outputs": [],
   "source": [
    "!pip install urllib2"
   ]
  },
  {
   "cell_type": "code",
   "execution_count": null,
   "metadata": {},
   "outputs": [],
   "source": [
    "from bs4 import BeautifulSoup\n",
    "import requests\n",
    "link = \"https://online.citi.com/US/JRS/pands/detail.do?ID=CurrentRates&JFP_TOKEN=MVDE2NLX\"\n",
    "r = requests.get(link)\n",
    "data = r.content\n",
    "soup = BeautifulSoup(data, \"html.parser\")\n",
    "soup.select(\"#checking table tbody\")[0]"
   ]
  },
  {
   "cell_type": "code",
   "execution_count": null,
   "metadata": {
    "collapsed": true
   },
   "outputs": [],
   "source": [
    "https://online.citi.com/US/JRS/pands/detail.do?ID=CurrentRates&JFP_TOKEN=7JAPCVIC"
   ]
  },
  {
   "cell_type": "code",
   "execution_count": null,
   "metadata": {},
   "outputs": [],
   "source": [
    "import MechanicalSoup\n",
    "from bs4 import BeautifulSoup\n",
    "\n",
    "# Read url with Mechanize\n",
    "url = 'https://online.citi.com/US/JRS/pands/detail.do?ID=CurrentRates&JFP_TOKEN=7JAPCVIC'\n",
    "br = mechanize.Browser()\n",
    "br.open(url)\n",
    "# Browser options\n",
    "br.set_handle_redirect(True)\n",
    "br.set_handle_robots(False)\n",
    "br.addheaders = [('User-agent', 'Firefox')]\n",
    "\n",
    "for form in br.forms():\n",
    "    print(\"Form name: \", form.name)\n",
    "    br.select_form(nr=0) # nr=0 It selects html form without name\n",
    "\n",
    "    for control in br.form.controls:\n",
    "        print(control) \n",
    "        print (\"type=%s, name=%s value=%s\" % (control.type, control.name, br[control.name]))"
   ]
  },
  {
   "cell_type": "code",
   "execution_count": null,
   "metadata": {
    "collapsed": true
   },
   "outputs": [],
   "source": [
    "import mechanicalsoup\n",
    "browser = mechanicalsoup.StatefulBrowser()"
   ]
  },
  {
   "cell_type": "code",
   "execution_count": null,
   "metadata": {},
   "outputs": [],
   "source": [
    "browser.open(\"https://online.citi.com/US/JRS/pands/detail.do?ID=CurrentRates&JFP_TOKEN=7JAPCVIC\")"
   ]
  },
  {
   "cell_type": "code",
   "execution_count": null,
   "metadata": {},
   "outputs": [],
   "source": [
    "browser.get_current_page()"
   ]
  },
  {
   "cell_type": "code",
   "execution_count": null,
   "metadata": {},
   "outputs": [],
   "source": [
    "browser.follow_link(\"forms\")"
   ]
  },
  {
   "cell_type": "code",
   "execution_count": null,
   "metadata": {},
   "outputs": [],
   "source": [
    "browser.get_url()"
   ]
  },
  {
   "cell_type": "code",
   "execution_count": null,
   "metadata": {
    "collapsed": true
   },
   "outputs": [],
   "source": [
    "browser.get_current_page()"
   ]
  },
  {
   "cell_type": "code",
   "execution_count": null,
   "metadata": {},
   "outputs": [],
   "source": [
    " browser.select_form('form[action=\"/post\"]')"
   ]
  },
  {
   "cell_type": "code",
   "execution_count": null,
   "metadata": {
    "collapsed": true
   },
   "outputs": [],
   "source": [
    "browser.get_current_form()"
   ]
  }
 ],
 "metadata": {
  "kernelspec": {
   "display_name": "Python 3",
   "language": "python",
   "name": "python3"
  },
  "language_info": {
   "codemirror_mode": {
    "name": "ipython",
    "version": 3
   },
   "file_extension": ".py",
   "mimetype": "text/x-python",
   "name": "python",
   "nbconvert_exporter": "python",
   "pygments_lexer": "ipython3",
   "version": "3.6.4"
  }
 },
 "nbformat": 4,
 "nbformat_minor": 2
}
