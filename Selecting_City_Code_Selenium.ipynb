{
 "cells": [
  {
   "cell_type": "code",
   "execution_count": null,
   "metadata": {
    "collapsed": true
   },
   "outputs": [],
   "source": [
    "import  sys\n",
    "sys.path.append(\"d:\\\\anaconda3\\\\lib\\\\site-packages\")\n",
    "from selenium import webdriver\n",
    "from selenium.common.exceptions import TimeoutException\n",
    "from selenium.webdriver.support.ui import WebDriverWait # available since 2.4.0\n",
    "from selenium.webdriver.common.by import By\n",
    "from selenium.webdriver.support import expected_conditions as EC\n",
    "from selenium.webdriver.support.ui import Select\n",
    "from selenium.webdriver.support.ui import Select\n",
    "import time"
   ]
  },
  {
   "cell_type": "code",
   "execution_count": null,
   "metadata": {
    "collapsed": true
   },
   "outputs": [],
   "source": [
    "driver = webdriver.Chrome('C:/Users/pooja/Downloads/chromedriver_win32/chromedriver.exe')\n",
    "driver.get(\"https://online.citi.com/US/JRS/pands/detail.do?ID=CurrentRates&amp;JFP_TOKEN=7JAPCVIC\")\n",
    "if driver.find_element_by_id('RegionalPricingLocation-snapshot-button'):\n",
    "    print (\"found\")\n",
    "    select_state = driver.find_element_by_id('RegionalPricingLocation-snapshot-button')\n",
    "    select_state.click()  "
   ]
  },
  {
   "cell_type": "code",
   "execution_count": null,
   "metadata": {
    "collapsed": true
   },
   "outputs": [],
   "source": [
    "driver.execute_script(\"arguments[0].click();\", 'AA')"
   ]
  },
  {
   "cell_type": "code",
   "execution_count": null,
   "metadata": {
    "collapsed": true
   },
   "outputs": [],
   "source": [
    "select_button = driver.find_element_by_id('ui-selectmenu-icon ui-icon ui-icon-triangle-1-s')\n",
    "select_button.click()"
   ]
  },
  {
   "cell_type": "code",
   "execution_count": null,
   "metadata": {
    "collapsed": true
   },
   "outputs": [],
   "source": [
    "# After choosing the state clicking on the select button\n",
    "\n",
    "select_button = driver.find_element_by_id('cmlink_GoBtnLocForm')\n",
    "select_button.click()"
   ]
  },
  {
   "cell_type": "code",
   "execution_count": null,
   "metadata": {
    "collapsed": true
   },
   "outputs": [],
   "source": [
    "element = driver.find_element_by_class_name('ytp-menu-label-secondary')"
   ]
  },
  {
   "cell_type": "code",
   "execution_count": null,
   "metadata": {
    "collapsed": true
   },
   "outputs": [],
   "source": [
    "table_trs = driver.find_elements_by_xpath('//div[@class=\"tab-content ui-tabs-panel ui-widget-content ui-corner-bottom\"]/div/div[1]/div/div/table/tbody/tr')\n",
    "\n",
    "for tr in table_trs:\n",
    "    #print tr.get_attribute(\" innerHTML\").encode(\"UTF-8\")\n",
    "\n",
    "    td = tr.find_elements_by_xpath(\".//td\")\n",
    "    if len(td)==2:\n",
    "        print(td[0].get_attribute(\"innerHTML\").encode(\"UTF-8\") +\"\\t\"+td[1].get_attribute(\"innerHTML\").encode(\"UTF-8\"))"
   ]
  },
  {
   "cell_type": "code",
   "execution_count": null,
   "metadata": {
    "collapsed": true
   },
   "outputs": [],
   "source": [
    "\n",
    "chrome_options = webdriver.ChromeOptions()\n",
    "chrome_options.add_argument('--no-sandbox')\n",
    "\n",
    "driver = webdriver.Chrome('C:/Users/pooja/Downloads/chromedriver_win32/chromedriver.exe', chrome_options=chrome_options)\n",
    "driver.get(\"https://online.citi.com/US/JRS/pands/detail.do?ID=CurrentRates&amp;JFP_TOKEN=7JAPCVIC\")\n",
    "select_state = driver.find_element_by_id('RegionalPricingLocation-snapshot-button')\n",
    "select_state.click()\n",
    "# driver.find_element_by_id('RegionalPricingLocation-snapshot-button').click()"
   ]
  },
  {
   "cell_type": "code",
   "execution_count": null,
   "metadata": {
    "collapsed": true
   },
   "outputs": [],
   "source": [
    "select = Select(driver.find_element_by_id('RegionalPricingLocation-snapshot'))\n",
    "# print(len(select.options))"
   ]
  },
  {
   "cell_type": "code",
   "execution_count": null,
   "metadata": {
    "collapsed": true
   },
   "outputs": [],
   "source": [
    "t = select.options[1]"
   ]
  },
  {
   "cell_type": "code",
   "execution_count": null,
   "metadata": {
    "collapsed": true
   },
   "outputs": [],
   "source": [
    "t"
   ]
  },
  {
   "cell_type": "code",
   "execution_count": null,
   "metadata": {
    "collapsed": true
   },
   "outputs": [],
   "source": [
    "t.get_property('value')"
   ]
  },
  {
   "cell_type": "code",
   "execution_count": null,
   "metadata": {
    "collapsed": true
   },
   "outputs": [],
   "source": [
    "select_by_value(t,'AA')\n",
    "# or select by value\n",
    "#select_element.select_by_value('0')\n",
    "# or select by option index\n",
    "#select_element.select_by_index(1)"
   ]
  },
  {
   "cell_type": "code",
   "execution_count": null,
   "metadata": {
    "collapsed": true,
    "scrolled": true
   },
   "outputs": [],
   "source": [
    "t.click()"
   ]
  },
  {
   "cell_type": "code",
   "execution_count": null,
   "metadata": {
    "collapsed": true
   },
   "outputs": [],
   "source": [
    "print ([o.get_property('value') for o in select.options])"
   ]
  },
  {
   "cell_type": "code",
   "execution_count": null,
   "metadata": {
    "collapsed": true
   },
   "outputs": [],
   "source": [
    "#select_by_value(self.driver.find_element_by_xpath(select_pension_locators), \"Thomas\")\n",
    "\n",
    "def select_by_value(webElement, value):\n",
    "        '''\n",
    "        This function selects an item given by\n",
    "        the argument 'value' within the 'WebElement' object\n",
    "        '''\n",
    "        options = webElement.find_elements_by_tag_name(\"option\")\n",
    "        for option in options:\n",
    "            if option.text == value:\n",
    "                webElement.click()\n",
    "                webElement.send_keys(option.text, Keys.RETURN)"
   ]
  }
 ],
 "metadata": {
  "kernelspec": {
   "display_name": "Python 3",
   "language": "python",
   "name": "python3"
  },
  "language_info": {
   "codemirror_mode": {
    "name": "ipython",
    "version": 3
   },
   "file_extension": ".py",
   "mimetype": "text/x-python",
   "name": "python",
   "nbconvert_exporter": "python",
   "pygments_lexer": "ipython3",
   "version": "3.6.4"
  }
 },
 "nbformat": 4,
 "nbformat_minor": 2
}
